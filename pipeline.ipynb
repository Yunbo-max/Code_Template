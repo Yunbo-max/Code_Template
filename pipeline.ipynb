{
 "cells": [
  {
   "cell_type": "code",
   "execution_count": 3,
   "metadata": {},
   "outputs": [
    {
     "data": {
      "text/plain": [
       "instant         int64\n",
       "dteday         object\n",
       "season          int64\n",
       "yr              int64\n",
       "mnth            int64\n",
       "holiday         int64\n",
       "weekday         int64\n",
       "workingday      int64\n",
       "weathersit      int64\n",
       "temp          float64\n",
       "atemp         float64\n",
       "hum           float64\n",
       "windspeed     float64\n",
       "rentals         int64\n",
       "dtype: object"
      ]
     },
     "execution_count": 3,
     "metadata": {},
     "output_type": "execute_result"
    }
   ],
   "source": [
    "import pandas as pd\n",
    "import numpy as np\n",
    "data = pd.read_csv('https://raw.githubusercontent.com/MicrosoftDocs/ml-basics/master/data/daily-bike-share.csv')\n",
    "data.dtypes"
   ]
  },
  {
   "cell_type": "code",
   "execution_count": 4,
   "metadata": {},
   "outputs": [
    {
     "data": {
      "text/plain": [
       "instant       0\n",
       "dteday        0\n",
       "season        0\n",
       "yr            0\n",
       "mnth          0\n",
       "holiday       0\n",
       "weekday       0\n",
       "workingday    0\n",
       "weathersit    0\n",
       "temp          0\n",
       "atemp         0\n",
       "hum           0\n",
       "windspeed     0\n",
       "rentals       0\n",
       "dtype: int64"
      ]
     },
     "execution_count": 4,
     "metadata": {},
     "output_type": "execute_result"
    }
   ],
   "source": [
    "data.isnull().sum()"
   ]
  },
  {
   "cell_type": "code",
   "execution_count": 5,
   "metadata": {},
   "outputs": [],
   "source": [
    "data = data[['season'\n",
    "             , 'mnth'\n",
    "             , 'holiday'\n",
    "             , 'weekday'\n",
    "             , 'workingday'\n",
    "             , 'weathersit'\n",
    "             , 'temp'\n",
    "             , 'atemp'\n",
    "             , 'hum'\n",
    "             , 'windspeed'\n",
    "             , 'rentals']]"
   ]
  },
  {
   "cell_type": "code",
   "execution_count": 7,
   "metadata": {},
   "outputs": [],
   "source": [
    "from sklearn.model_selection import train_test_split\n",
    "X = data.drop('rentals',axis=1)\n",
    "y = data['rentals']\n",
    "X_train, X_test, y_train, y_test = train_test_split(X, y, test_size=0.2, random_state=123)"
   ]
  },
  {
   "cell_type": "code",
   "execution_count": 9,
   "metadata": {},
   "outputs": [
    {
     "name": "stdout",
     "output_type": "stream",
     "text": [
      "Pipeline(steps=[('preprocessor',\n",
      "                 ColumnTransformer(transformers=[('numeric',\n",
      "                                                  Pipeline(steps=[('imputer',\n",
      "                                                                   SimpleImputer()),\n",
      "                                                                  ('scaler',\n",
      "                                                                   StandardScaler())]),\n",
      "                                                  ['temp', 'atemp', 'hum',\n",
      "                                                   'windspeed']),\n",
      "                                                 ('categorical',\n",
      "                                                  Pipeline(steps=[('imputer',\n",
      "                                                                   SimpleImputer(strategy='constant')),\n",
      "                                                                  ('encoder',\n",
      "                                                                   OrdinalEncoder())]),\n",
      "                                                  ['season', 'mnth', 'holiday',\n",
      "                                                   'weekday', 'workingday',\n",
      "                                                   'weathersit'])])),\n",
      "                ('regressor', RandomForestRegressor())])\n"
     ]
    }
   ],
   "source": [
    "from sklearn.preprocessing import StandardScaler, OrdinalEncoder\n",
    "from sklearn.impute import SimpleImputer\n",
    "from sklearn.compose import ColumnTransformer\n",
    "from sklearn.pipeline import Pipeline\n",
    "\n",
    "numeric_transformer = Pipeline(steps=[\n",
    "       ('imputer', SimpleImputer(strategy='mean'))\n",
    "      ,('scaler', StandardScaler())\n",
    "])\n",
    "categorical_transformer = Pipeline(steps=[\n",
    "       ('imputer', SimpleImputer(strategy='constant'))\n",
    "      ,('encoder', OrdinalEncoder())\n",
    "])\n",
    "\n",
    "# numeric_transformer = Pipeline(steps=[\n",
    "#        ('imputer', SimpleImputer(strategy='median'))\n",
    "#       ,('scaler', MinMaxScaler())\n",
    "# ])\n",
    "# categorical_transformer = Pipeline(steps=[\n",
    "#        ('imputer', SimpleImputer(strategy='constant'))\n",
    "#       ,('encoder', OneHotEncoder())\n",
    "# ])\n",
    "# pipeline = Pipeline(steps = [\n",
    "#                ('preprocessor', preprocessor)\n",
    "#               ,('regressor',RandomForestRegressor(n_estimators=300\n",
    "#                                                  ,max_depth=10))\n",
    "#            ])\n",
    "\n",
    "\n",
    "\n",
    "numeric_features = ['temp', 'atemp', 'hum', 'windspeed']\n",
    "categorical_features = ['season', 'mnth', 'holiday', 'weekday', 'workingday', 'weathersit']\n",
    "preprocessor = ColumnTransformer(\n",
    "   transformers=[\n",
    "    ('numeric', numeric_transformer, numeric_features)\n",
    "   ,('categorical', categorical_transformer, categorical_features)\n",
    "]) \n",
    "\n",
    "from sklearn.ensemble import RandomForestRegressor\n",
    "pipeline = Pipeline(steps = [\n",
    "               ('preprocessor', preprocessor)\n",
    "              ,('regressor',RandomForestRegressor())\n",
    "           ])\n",
    "\n",
    "rf_model = pipeline.fit(X_train, y_train)\n",
    "print (rf_model)"
   ]
  },
  {
   "cell_type": "code",
   "execution_count": 10,
   "metadata": {},
   "outputs": [
    {
     "name": "stdout",
     "output_type": "stream",
     "text": [
      "0.7695976015836663\n"
     ]
    }
   ],
   "source": [
    "from sklearn.metrics import r2_score\n",
    "predictions = rf_model.predict(X_test)\n",
    "print (r2_score(y_test, predictions))"
   ]
  },
  {
   "cell_type": "code",
   "execution_count": 12,
   "metadata": {},
   "outputs": [
    {
     "data": {
      "text/plain": [
       "['./rf_model.pkl']"
      ]
     },
     "execution_count": 12,
     "metadata": {},
     "output_type": "execute_result"
    }
   ],
   "source": [
    "import joblib\n",
    "joblib.dump(rf_model, './rf_model.pkl')\n",
    "\n",
    "# In other notebooks \n",
    "# rf_model = joblib.load('PATH/TO/rf_model.pkl')\n",
    "# new_prediction = rf_model.predict(new_data)"
   ]
  },
  {
   "cell_type": "code",
   "execution_count": 14,
   "metadata": {},
   "outputs": [],
   "source": [
    "# easily comparing\n",
    "\n",
    "# regressors = [\n",
    "#     regressor_1()\n",
    "#    ,regressor_2()\n",
    "#    ,regressor_3()\n",
    "#    ....]\n",
    "# for regressor in regressors:\n",
    "#     pipeline = Pipeline(steps = [\n",
    "#                ('preprocessor', preprocessor)\n",
    "#               ,('regressor',regressor)\n",
    "#            ])\n",
    "#     model = pipeline.fit(X_train, y_train)\n",
    "#     predictions = model.predict(X_test)\n",
    "#     print (regressor)\n",
    "#     print (f('Model r2 score:{r2_score(predictions, y_test)}')"
   ]
  },
  {
   "cell_type": "code",
   "execution_count": 18,
   "metadata": {},
   "outputs": [
    {
     "name": "stderr",
     "output_type": "stream",
     "text": [
      "[I 2024-01-04 11:52:07,243] A new study created in memory with name: no-name-879a42f9-40a2-4a4b-817a-2c00c28405b1\n",
      "[I 2024-01-04 11:52:07,855] Trial 0 finished with value: -119848.29106513267 and parameters: {'n_estimators': 160, 'max_depth': 14}. Best is trial 0 with value: -119848.29106513267.\n",
      "[I 2024-01-04 11:52:09,208] Trial 1 finished with value: -119974.1987709306 and parameters: {'n_estimators': 383, 'max_depth': 14}. Best is trial 1 with value: -119974.1987709306.\n",
      "[I 2024-01-04 11:52:10,685] Trial 2 finished with value: -118445.79410340157 and parameters: {'n_estimators': 413, 'max_depth': 24}. Best is trial 1 with value: -119974.1987709306.\n",
      "[I 2024-01-04 11:52:11,777] Trial 3 finished with value: -119572.60459386476 and parameters: {'n_estimators': 297, 'max_depth': 16}. Best is trial 1 with value: -119974.1987709306.\n",
      "[I 2024-01-04 11:52:12,998] Trial 4 finished with value: -120620.33672389579 and parameters: {'n_estimators': 345, 'max_depth': 21}. Best is trial 4 with value: -120620.33672389579.\n",
      "[I 2024-01-04 11:52:13,970] Trial 5 finished with value: -118164.77529208637 and parameters: {'n_estimators': 325, 'max_depth': 6}. Best is trial 4 with value: -120620.33672389579.\n",
      "[I 2024-01-04 11:52:15,324] Trial 6 finished with value: -117789.18348651158 and parameters: {'n_estimators': 405, 'max_depth': 9}. Best is trial 4 with value: -120620.33672389579.\n",
      "[I 2024-01-04 11:52:16,301] Trial 7 finished with value: -120454.71989551121 and parameters: {'n_estimators': 268, 'max_depth': 21}. Best is trial 4 with value: -120620.33672389579.\n",
      "[I 2024-01-04 11:52:17,382] Trial 8 finished with value: -116906.52209519483 and parameters: {'n_estimators': 403, 'max_depth': 5}. Best is trial 4 with value: -120620.33672389579.\n",
      "[I 2024-01-04 11:52:18,062] Trial 9 finished with value: -116756.6239624029 and parameters: {'n_estimators': 198, 'max_depth': 9}. Best is trial 4 with value: -120620.33672389579.\n",
      "[I 2024-01-04 11:52:19,799] Trial 10 finished with value: -121148.59798474787 and parameters: {'n_estimators': 494, 'max_depth': 29}. Best is trial 10 with value: -121148.59798474787.\n",
      "[I 2024-01-04 11:52:21,474] Trial 11 finished with value: -119395.16789007725 and parameters: {'n_estimators': 489, 'max_depth': 30}. Best is trial 10 with value: -121148.59798474787.\n",
      "[I 2024-01-04 11:52:23,201] Trial 12 finished with value: -119376.88673838899 and parameters: {'n_estimators': 494, 'max_depth': 30}. Best is trial 10 with value: -121148.59798474787.\n",
      "[I 2024-01-04 11:52:23,509] Trial 13 finished with value: -123158.21343898305 and parameters: {'n_estimators': 80, 'max_depth': 25}. Best is trial 13 with value: -123158.21343898305.\n",
      "[I 2024-01-04 11:52:23,747] Trial 14 finished with value: -121439.6267425612 and parameters: {'n_estimators': 60, 'max_depth': 26}. Best is trial 13 with value: -123158.21343898305.\n",
      "[I 2024-01-04 11:52:23,966] Trial 15 finished with value: -117937.40945038284 and parameters: {'n_estimators': 57, 'max_depth': 25}. Best is trial 13 with value: -123158.21343898305.\n",
      "[I 2024-01-04 11:52:24,180] Trial 16 finished with value: -118916.93443645703 and parameters: {'n_estimators': 55, 'max_depth': 26}. Best is trial 13 with value: -123158.21343898305.\n",
      "[I 2024-01-04 11:52:24,618] Trial 17 finished with value: -120223.89922033573 and parameters: {'n_estimators': 118, 'max_depth': 21}. Best is trial 13 with value: -123158.21343898305.\n",
      "[I 2024-01-04 11:52:25,050] Trial 18 finished with value: -121480.01870245134 and parameters: {'n_estimators': 110, 'max_depth': 27}. Best is trial 13 with value: -123158.21343898305.\n",
      "[I 2024-01-04 11:52:25,782] Trial 19 finished with value: -120052.82148462658 and parameters: {'n_estimators': 205, 'max_depth': 18}. Best is trial 13 with value: -123158.21343898305.\n",
      "[I 2024-01-04 11:52:26,207] Trial 20 finished with value: -117816.8341757028 and parameters: {'n_estimators': 118, 'max_depth': 23}. Best is trial 13 with value: -123158.21343898305.\n",
      "[I 2024-01-04 11:52:26,573] Trial 21 finished with value: -121496.37187871244 and parameters: {'n_estimators': 101, 'max_depth': 27}. Best is trial 13 with value: -123158.21343898305.\n",
      "[I 2024-01-04 11:52:26,978] Trial 22 finished with value: -117869.82171337893 and parameters: {'n_estimators': 113, 'max_depth': 28}. Best is trial 13 with value: -123158.21343898305.\n",
      "[I 2024-01-04 11:52:27,521] Trial 23 finished with value: -121334.69727690906 and parameters: {'n_estimators': 155, 'max_depth': 28}. Best is trial 13 with value: -123158.21343898305.\n",
      "[I 2024-01-04 11:52:28,350] Trial 24 finished with value: -119610.98570139469 and parameters: {'n_estimators': 237, 'max_depth': 27}. Best is trial 13 with value: -123158.21343898305.\n",
      "[I 2024-01-04 11:52:28,691] Trial 25 finished with value: -119233.98631746604 and parameters: {'n_estimators': 94, 'max_depth': 23}. Best is trial 13 with value: -123158.21343898305.\n",
      "[I 2024-01-04 11:52:29,266] Trial 26 finished with value: -120243.00539137803 and parameters: {'n_estimators': 162, 'max_depth': 20}. Best is trial 13 with value: -123158.21343898305.\n",
      "[I 2024-01-04 11:52:29,589] Trial 27 finished with value: -121344.5876334409 and parameters: {'n_estimators': 87, 'max_depth': 24}. Best is trial 13 with value: -123158.21343898305.\n",
      "[I 2024-01-04 11:52:30,103] Trial 28 finished with value: -121165.16454685034 and parameters: {'n_estimators': 141, 'max_depth': 27}. Best is trial 13 with value: -123158.21343898305.\n",
      "[I 2024-01-04 11:52:30,765] Trial 29 finished with value: -119529.25180561999 and parameters: {'n_estimators': 187, 'max_depth': 18}. Best is trial 13 with value: -123158.21343898305.\n",
      "[I 2024-01-04 11:52:31,634] Trial 30 finished with value: -119172.7780218741 and parameters: {'n_estimators': 248, 'max_depth': 23}. Best is trial 13 with value: -123158.21343898305.\n",
      "[I 2024-01-04 11:52:31,923] Trial 31 finished with value: -117499.90453272825 and parameters: {'n_estimators': 78, 'max_depth': 26}. Best is trial 13 with value: -123158.21343898305.\n",
      "[I 2024-01-04 11:52:32,122] Trial 32 finished with value: -122755.95918979445 and parameters: {'n_estimators': 51, 'max_depth': 25}. Best is trial 13 with value: -123158.21343898305.\n",
      "[I 2024-01-04 11:52:32,591] Trial 33 finished with value: -122989.72356672287 and parameters: {'n_estimators': 131, 'max_depth': 25}. Best is trial 13 with value: -123158.21343898305.\n",
      "[I 2024-01-04 11:52:33,101] Trial 34 finished with value: -120195.87495822925 and parameters: {'n_estimators': 144, 'max_depth': 24}. Best is trial 13 with value: -123158.21343898305.\n",
      "[I 2024-01-04 11:52:33,402] Trial 35 finished with value: -119977.11883508433 and parameters: {'n_estimators': 82, 'max_depth': 16}. Best is trial 13 with value: -123158.21343898305.\n",
      "[I 2024-01-04 11:52:34,029] Trial 36 finished with value: -119516.15392059441 and parameters: {'n_estimators': 178, 'max_depth': 22}. Best is trial 13 with value: -123158.21343898305.\n",
      "[I 2024-01-04 11:52:34,486] Trial 37 finished with value: -117666.14902270756 and parameters: {'n_estimators': 128, 'max_depth': 19}. Best is trial 13 with value: -123158.21343898305.\n",
      "[I 2024-01-04 11:52:35,233] Trial 38 finished with value: -117276.01243032675 and parameters: {'n_estimators': 216, 'max_depth': 14}. Best is trial 13 with value: -123158.21343898305.\n",
      "[I 2024-01-04 11:52:35,580] Trial 39 finished with value: -120449.11360572798 and parameters: {'n_estimators': 95, 'max_depth': 25}. Best is trial 13 with value: -123158.21343898305.\n",
      "[I 2024-01-04 11:52:36,609] Trial 40 finished with value: -118114.84760216574 and parameters: {'n_estimators': 295, 'max_depth': 29}. Best is trial 13 with value: -123158.21343898305.\n",
      "[I 2024-01-04 11:52:36,982] Trial 41 finished with value: -118137.88580820174 and parameters: {'n_estimators': 102, 'max_depth': 28}. Best is trial 13 with value: -123158.21343898305.\n",
      "[I 2024-01-04 11:52:37,177] Trial 42 finished with value: -120011.73989864408 and parameters: {'n_estimators': 50, 'max_depth': 25}. Best is trial 13 with value: -123158.21343898305.\n",
      "[I 2024-01-04 11:52:37,455] Trial 43 finished with value: -119125.82812719498 and parameters: {'n_estimators': 74, 'max_depth': 27}. Best is trial 13 with value: -123158.21343898305.\n",
      "[I 2024-01-04 11:52:38,065] Trial 44 finished with value: -118585.43213805603 and parameters: {'n_estimators': 166, 'max_depth': 22}. Best is trial 13 with value: -123158.21343898305.\n",
      "[I 2024-01-04 11:52:38,549] Trial 45 finished with value: -119772.99230554975 and parameters: {'n_estimators': 135, 'max_depth': 30}. Best is trial 13 with value: -123158.21343898305.\n",
      "[I 2024-01-04 11:52:39,794] Trial 46 finished with value: -119526.32271124012 and parameters: {'n_estimators': 362, 'max_depth': 24}. Best is trial 13 with value: -123158.21343898305.\n",
      "[I 2024-01-04 11:52:41,327] Trial 47 finished with value: -118919.63159315393 and parameters: {'n_estimators': 447, 'max_depth': 29}. Best is trial 13 with value: -123158.21343898305.\n",
      "[I 2024-01-04 11:52:41,587] Trial 48 finished with value: -120459.5446852902 and parameters: {'n_estimators': 69, 'max_depth': 26}. Best is trial 13 with value: -123158.21343898305.\n",
      "[I 2024-01-04 11:52:41,940] Trial 49 finished with value: -119359.78815377 and parameters: {'n_estimators': 101, 'max_depth': 10}. Best is trial 13 with value: -123158.21343898305.\n",
      "[I 2024-01-04 11:52:42,383] Trial 50 finished with value: -119775.09775156234 and parameters: {'n_estimators': 124, 'max_depth': 20}. Best is trial 13 with value: -123158.21343898305.\n",
      "[I 2024-01-04 11:52:42,646] Trial 51 finished with value: -120586.46627689383 and parameters: {'n_estimators': 70, 'max_depth': 26}. Best is trial 13 with value: -123158.21343898305.\n",
      "[I 2024-01-04 11:52:42,854] Trial 52 finished with value: -115415.46816818179 and parameters: {'n_estimators': 54, 'max_depth': 25}. Best is trial 13 with value: -123158.21343898305.\n",
      "[I 2024-01-04 11:52:43,233] Trial 53 finished with value: -119362.73745576183 and parameters: {'n_estimators': 105, 'max_depth': 27}. Best is trial 13 with value: -123158.21343898305.\n",
      "[I 2024-01-04 11:52:43,493] Trial 54 finished with value: -123073.08528760634 and parameters: {'n_estimators': 69, 'max_depth': 22}. Best is trial 13 with value: -123158.21343898305.\n",
      "[I 2024-01-04 11:52:43,784] Trial 55 finished with value: -118510.43484086255 and parameters: {'n_estimators': 78, 'max_depth': 22}. Best is trial 13 with value: -123158.21343898305.\n",
      "[I 2024-01-04 11:52:44,194] Trial 56 finished with value: -117813.10470978664 and parameters: {'n_estimators': 113, 'max_depth': 24}. Best is trial 13 with value: -123158.21343898305.\n",
      "[I 2024-01-04 11:52:44,747] Trial 57 finished with value: -119773.08243308077 and parameters: {'n_estimators': 152, 'max_depth': 28}. Best is trial 13 with value: -123158.21343898305.\n",
      "[I 2024-01-04 11:52:45,099] Trial 58 finished with value: -119738.3246006458 and parameters: {'n_estimators': 88, 'max_depth': 23}. Best is trial 13 with value: -123158.21343898305.\n",
      "[I 2024-01-04 11:52:45,583] Trial 59 finished with value: -119994.17158014639 and parameters: {'n_estimators': 131, 'max_depth': 29}. Best is trial 13 with value: -123158.21343898305.\n",
      "[I 2024-01-04 11:52:45,846] Trial 60 finished with value: -122860.11358943272 and parameters: {'n_estimators': 64, 'max_depth': 21}. Best is trial 13 with value: -123158.21343898305.\n",
      "[I 2024-01-04 11:52:46,115] Trial 61 finished with value: -119666.09046300186 and parameters: {'n_estimators': 66, 'max_depth': 21}. Best is trial 13 with value: -123158.21343898305.\n",
      "[I 2024-01-04 11:52:46,320] Trial 62 finished with value: -120611.88182763841 and parameters: {'n_estimators': 50, 'max_depth': 20}. Best is trial 13 with value: -123158.21343898305.\n",
      "[I 2024-01-04 11:52:46,732] Trial 63 finished with value: -122714.69088202971 and parameters: {'n_estimators': 112, 'max_depth': 25}. Best is trial 13 with value: -123158.21343898305.\n",
      "[I 2024-01-04 11:52:47,084] Trial 64 finished with value: -122169.2716298763 and parameters: {'n_estimators': 91, 'max_depth': 25}. Best is trial 13 with value: -123158.21343898305.\n",
      "[I 2024-01-04 11:52:47,426] Trial 65 finished with value: -121474.24880316001 and parameters: {'n_estimators': 89, 'max_depth': 22}. Best is trial 13 with value: -123158.21343898305.\n",
      "[I 2024-01-04 11:52:47,665] Trial 66 finished with value: -119410.44673615643 and parameters: {'n_estimators': 62, 'max_depth': 24}. Best is trial 13 with value: -123158.21343898305.\n",
      "[I 2024-01-04 11:52:48,103] Trial 67 finished with value: -121703.05281408264 and parameters: {'n_estimators': 117, 'max_depth': 25}. Best is trial 13 with value: -123158.21343898305.\n",
      "[I 2024-01-04 11:52:48,411] Trial 68 finished with value: -120918.80465221363 and parameters: {'n_estimators': 78, 'max_depth': 23}. Best is trial 13 with value: -123158.21343898305.\n",
      "[I 2024-01-04 11:52:48,673] Trial 69 finished with value: -118731.90602733547 and parameters: {'n_estimators': 64, 'max_depth': 19}. Best is trial 13 with value: -123158.21343898305.\n",
      "[I 2024-01-04 11:52:49,305] Trial 70 finished with value: -119094.846993304 and parameters: {'n_estimators': 177, 'max_depth': 21}. Best is trial 13 with value: -123158.21343898305.\n",
      "[I 2024-01-04 11:52:49,741] Trial 71 finished with value: -119788.5214779708 and parameters: {'n_estimators': 118, 'max_depth': 25}. Best is trial 13 with value: -123158.21343898305.\n",
      "[I 2024-01-04 11:52:50,103] Trial 72 finished with value: -118690.35320004374 and parameters: {'n_estimators': 98, 'max_depth': 26}. Best is trial 13 with value: -123158.21343898305.\n",
      "[I 2024-01-04 11:52:50,446] Trial 73 finished with value: -119922.7314133778 and parameters: {'n_estimators': 88, 'max_depth': 25}. Best is trial 13 with value: -123158.21343898305.\n",
      "[I 2024-01-04 11:52:50,958] Trial 74 finished with value: -119301.49210542705 and parameters: {'n_estimators': 144, 'max_depth': 23}. Best is trial 13 with value: -123158.21343898305.\n",
      "[I 2024-01-04 11:52:51,395] Trial 75 finished with value: -119184.16902850063 and parameters: {'n_estimators': 115, 'max_depth': 24}. Best is trial 13 with value: -123158.21343898305.\n",
      "[I 2024-01-04 11:52:51,856] Trial 76 finished with value: -120150.89580818238 and parameters: {'n_estimators': 126, 'max_depth': 16}. Best is trial 13 with value: -123158.21343898305.\n",
      "[I 2024-01-04 11:52:52,163] Trial 77 finished with value: -118770.52610577655 and parameters: {'n_estimators': 81, 'max_depth': 22}. Best is trial 13 with value: -123158.21343898305.\n",
      "[I 2024-01-04 11:52:52,557] Trial 78 finished with value: -119680.99950474463 and parameters: {'n_estimators': 106, 'max_depth': 25}. Best is trial 13 with value: -123158.21343898305.\n",
      "[I 2024-01-04 11:52:53,693] Trial 79 finished with value: -120059.78281558547 and parameters: {'n_estimators': 327, 'max_depth': 26}. Best is trial 13 with value: -123158.21343898305.\n",
      "[I 2024-01-04 11:52:53,952] Trial 80 finished with value: -120104.04576742914 and parameters: {'n_estimators': 64, 'max_depth': 23}. Best is trial 13 with value: -123158.21343898305.\n",
      "[I 2024-01-04 11:52:54,300] Trial 81 finished with value: -119594.6568692239 and parameters: {'n_estimators': 95, 'max_depth': 27}. Best is trial 13 with value: -123158.21343898305.\n",
      "[I 2024-01-04 11:52:54,792] Trial 82 finished with value: -119936.70115325853 and parameters: {'n_estimators': 138, 'max_depth': 25}. Best is trial 13 with value: -123158.21343898305.\n",
      "[I 2024-01-04 11:52:55,082] Trial 83 finished with value: -118255.83373459763 and parameters: {'n_estimators': 77, 'max_depth': 28}. Best is trial 13 with value: -123158.21343898305.\n",
      "[I 2024-01-04 11:52:55,467] Trial 84 finished with value: -119991.2751304976 and parameters: {'n_estimators': 106, 'max_depth': 24}. Best is trial 13 with value: -123158.21343898305.\n",
      "[I 2024-01-04 11:52:55,675] Trial 85 finished with value: -125071.78631237769 and parameters: {'n_estimators': 53, 'max_depth': 27}. Best is trial 85 with value: -125071.78631237769.\n",
      "[I 2024-01-04 11:52:55,875] Trial 86 finished with value: -122839.30513420523 and parameters: {'n_estimators': 51, 'max_depth': 26}. Best is trial 85 with value: -125071.78631237769.\n",
      "[I 2024-01-04 11:52:56,075] Trial 87 finished with value: -123070.44962128862 and parameters: {'n_estimators': 51, 'max_depth': 26}. Best is trial 85 with value: -125071.78631237769.\n",
      "[I 2024-01-04 11:52:56,278] Trial 88 finished with value: -117624.05485294855 and parameters: {'n_estimators': 52, 'max_depth': 26}. Best is trial 85 with value: -125071.78631237769.\n",
      "[I 2024-01-04 11:52:56,513] Trial 89 finished with value: -121795.73618635717 and parameters: {'n_estimators': 61, 'max_depth': 27}. Best is trial 85 with value: -125071.78631237769.\n",
      "[I 2024-01-04 11:52:56,769] Trial 90 finished with value: -114175.96647284862 and parameters: {'n_estimators': 68, 'max_depth': 28}. Best is trial 85 with value: -125071.78631237769.\n",
      "[I 2024-01-04 11:52:57,007] Trial 91 finished with value: -121107.80015692914 and parameters: {'n_estimators': 58, 'max_depth': 26}. Best is trial 85 with value: -125071.78631237769.\n",
      "[I 2024-01-04 11:52:57,293] Trial 92 finished with value: -121936.45007361207 and parameters: {'n_estimators': 75, 'max_depth': 27}. Best is trial 85 with value: -125071.78631237769.\n",
      "[I 2024-01-04 11:52:57,489] Trial 93 finished with value: -118549.15329367232 and parameters: {'n_estimators': 50, 'max_depth': 24}. Best is trial 85 with value: -125071.78631237769.\n",
      "[I 2024-01-04 11:52:57,812] Trial 94 finished with value: -121554.32481495423 and parameters: {'n_estimators': 88, 'max_depth': 26}. Best is trial 85 with value: -125071.78631237769.\n",
      "[I 2024-01-04 11:52:58,121] Trial 95 finished with value: -120041.20158650479 and parameters: {'n_estimators': 71, 'max_depth': 29}. Best is trial 85 with value: -125071.78631237769.\n",
      "[I 2024-01-04 11:52:58,435] Trial 96 finished with value: -120335.82311157638 and parameters: {'n_estimators': 83, 'max_depth': 24}. Best is trial 85 with value: -125071.78631237769.\n",
      "[I 2024-01-04 11:52:58,778] Trial 97 finished with value: -117826.86975815978 and parameters: {'n_estimators': 94, 'max_depth': 17}. Best is trial 85 with value: -125071.78631237769.\n",
      "[I 2024-01-04 11:52:58,987] Trial 98 finished with value: -116605.41359773572 and parameters: {'n_estimators': 59, 'max_depth': 6}. Best is trial 85 with value: -125071.78631237769.\n",
      "[I 2024-01-04 11:52:59,801] Trial 99 finished with value: -118430.23137927274 and parameters: {'n_estimators': 231, 'max_depth': 23}. Best is trial 85 with value: -125071.78631237769.\n"
     ]
    },
    {
     "name": "stdout",
     "output_type": "stream",
     "text": [
      "Best Hyperparameters: {'n_estimators': 53, 'max_depth': 27}\n",
      "Final Model saved as rf_model.pkl\n"
     ]
    }
   ],
   "source": [
    "from sklearn.preprocessing import StandardScaler, OrdinalEncoder\n",
    "from sklearn.impute import SimpleImputer\n",
    "from sklearn.compose import ColumnTransformer\n",
    "from sklearn.pipeline import Pipeline\n",
    "from sklearn.ensemble import RandomForestRegressor\n",
    "from sklearn.model_selection import train_test_split\n",
    "from sklearn.model_selection import cross_val_score\n",
    "import optuna\n",
    "\n",
    "# Assuming X_train and y_train are your training data\n",
    "X_train, X_val, y_train, y_val = train_test_split(X_train, y_train, test_size=0.2, random_state=42)\n",
    "\n",
    "numeric_transformer = Pipeline(steps=[\n",
    "    ('imputer', SimpleImputer(strategy='mean')),\n",
    "    ('scaler', StandardScaler())\n",
    "])\n",
    "\n",
    "categorical_transformer = Pipeline(steps=[\n",
    "    ('imputer', SimpleImputer(strategy='constant')),\n",
    "    ('encoder', OrdinalEncoder())\n",
    "])\n",
    "\n",
    "numeric_features = ['temp', 'atemp', 'hum', 'windspeed']\n",
    "categorical_features = ['season', 'mnth', 'holiday', 'weekday', 'workingday', 'weathersit']\n",
    "\n",
    "preprocessor = ColumnTransformer(\n",
    "    transformers=[\n",
    "        ('numeric', numeric_transformer, numeric_features),\n",
    "        ('categorical', categorical_transformer, categorical_features)\n",
    "    ])\n",
    "\n",
    "# Remove RandomForestRegressor and use Optuna for hyperparameter tuning\n",
    "def objective(trial):\n",
    "    # Define hyperparameters to be tuned\n",
    "    n_estimators = trial.suggest_int('n_estimators', 50, 500)\n",
    "    max_depth = trial.suggest_int('max_depth', 5, 30)\n",
    "\n",
    "    # Create a pipeline with hyperparameters suggested by Optuna\n",
    "    pipeline = Pipeline(steps=[\n",
    "        ('preprocessor', preprocessor),\n",
    "        ('regressor', RandomForestRegressor(n_estimators=n_estimators, max_depth=max_depth))\n",
    "    ])\n",
    "\n",
    "    # Evaluate the score by cross-validation\n",
    "    score = cross_val_score(pipeline, X_train, y_train, scoring='neg_mean_squared_error', cv=5)\n",
    "    mean_score = score.mean()\n",
    "\n",
    "    return mean_score\n",
    "\n",
    "# Create Optuna study and optimize\n",
    "study = optuna.create_study(direction='minimize')\n",
    "study.optimize(objective, n_trials=100)\n",
    "\n",
    "# Get the best hyperparameters\n",
    "best_params = study.best_params\n",
    "best_n_estimators = best_params['n_estimators']\n",
    "best_max_depth = best_params['max_depth']\n",
    "\n",
    "# Create the final pipeline with the best hyperparameters\n",
    "final_pipeline = Pipeline(steps=[\n",
    "    ('preprocessor', preprocessor),\n",
    "    ('regressor', RandomForestRegressor(n_estimators=best_n_estimators, max_depth=best_max_depth))\n",
    "])\n",
    "\n",
    "# Fit the final model with the best hyperparameters to the entire training data\n",
    "final_model = final_pipeline.fit(X_train, y_train)\n",
    "\n",
    "# Save the best model using joblib\n",
    "joblib.dump(final_model, './rf_model.pkl')\n",
    "\n",
    "print(\"Best Hyperparameters:\", best_params)\n",
    "print(\"Final Model saved as rf_model.pkl\")"
   ]
  }
 ],
 "metadata": {
  "kernelspec": {
   "display_name": "basic",
   "language": "python",
   "name": "python3"
  },
  "language_info": {
   "codemirror_mode": {
    "name": "ipython",
    "version": 3
   },
   "file_extension": ".py",
   "mimetype": "text/x-python",
   "name": "python",
   "nbconvert_exporter": "python",
   "pygments_lexer": "ipython3",
   "version": "3.9.18"
  }
 },
 "nbformat": 4,
 "nbformat_minor": 2
}
