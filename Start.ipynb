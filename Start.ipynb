{
 "cells": [
  {
   "cell_type": "markdown",
   "metadata": {},
   "source": [
    "1. OOP\n",
    "\n",
    "2. no use of jupyter if writing code longer than 2 days\n",
    "\n",
    "3. Simplify code: answer = a[i]*b[i] ---> answer = np.dot(a,b)\n",
    "\n",
    "4. Several Doc hint line but not for every line\n",
    "\n",
    "5. Config files so change the parameter from the yaml file rather than the code\n",
    "\n",
    "6. Logging: let MLops do the heavy lifting(W&B)\n",
    "\n",
    "7. hyper-parameter tuning(Optuna)\n",
    "\n",
    "8. PEP8\n",
    "\n"
   ]
  }
 ],
 "metadata": {
  "language_info": {
   "name": "python"
  }
 },
 "nbformat": 4,
 "nbformat_minor": 2
}
